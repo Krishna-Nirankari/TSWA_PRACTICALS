{
  "nbformat": 4,
  "nbformat_minor": 0,
  "metadata": {
    "colab": {
      "provenance": []
    },
    "kernelspec": {
      "name": "python3",
      "display_name": "Python 3"
    },
    "language_info": {
      "name": "python"
    }
  },
  "cells": [
    {
      "cell_type": "markdown",
      "source": [
        "##TSWA PRACTICAL 4 - BASICS OF TEXT ANALYTICS"
      ],
      "metadata": {
        "id": "7B8euaruD6ZW"
      }
    },
    {
      "cell_type": "markdown",
      "source": [
        "### Working with Text\n",
        "### Types of strings\n",
        "### Simple Strings"
      ],
      "metadata": {
        "id": "P2ku5w9pEC5K"
      }
    },
    {
      "cell_type": "code",
      "source": [
        "simple_str1='Hello!!'+'I am a simple string'\n",
        "simple_str1"
      ],
      "metadata": {
        "id": "W28HHwiFEIGF",
        "outputId": "144a6662-47c6-45d7-9d4a-cbcdeb4785be",
        "colab": {
          "base_uri": "https://localhost:8080/",
          "height": 36
        }
      },
      "execution_count": null,
      "outputs": [
        {
          "output_type": "execute_result",
          "data": {
            "text/plain": [
              "'Hello!!I am a simple string'"
            ],
            "application/vnd.google.colaboratory.intrinsic+json": {
              "type": "string"
            }
          },
          "metadata": {},
          "execution_count": 1
        }
      ]
    },
    {
      "cell_type": "code",
      "source": [
        "multiline_str2='Hello!!\\n I am a simple string'\n",
        "print(multiline_str2)"
      ],
      "metadata": {
        "colab": {
          "base_uri": "https://localhost:8080/"
        },
        "id": "7DWEJJRrMKHT",
        "outputId": "a5ea44ac-6fcf-4ff1-a3dc-229d9deebf64"
      },
      "execution_count": null,
      "outputs": [
        {
          "output_type": "stream",
          "name": "stdout",
          "text": [
            "Hello!!\n",
            " I am a simple string\n"
          ]
        }
      ]
    },
    {
      "cell_type": "code",
      "source": [
        "# Extracting the text from the txt file\n",
        "Extract_str='/content/drive/MyDrive/text_data.txt'\n",
        "Extract_str\n",
        "#print(Extract_str)"
      ],
      "metadata": {
        "colab": {
          "base_uri": "https://localhost:8080/",
          "height": 36
        },
        "id": "ChCRkj15MzKA",
        "outputId": "2cb7f9f7-5fa4-4956-8ce4-38d86e7893ca"
      },
      "execution_count": null,
      "outputs": [
        {
          "output_type": "execute_result",
          "data": {
            "text/plain": [
              "'/content/drive/MyDrive/text_data.txt'"
            ],
            "application/vnd.google.colaboratory.intrinsic+json": {
              "type": "string"
            }
          },
          "metadata": {},
          "execution_count": 3
        }
      ]
    },
    {
      "cell_type": "code",
      "source": [
        "# Deriving the raw string(wihtout the quotes)\n",
        "raw_str=r'/content/drive/MyDrive/text_data.txt'\n",
        "print(raw_str)"
      ],
      "metadata": {
        "colab": {
          "base_uri": "https://localhost:8080/"
        },
        "id": "myQG2lDdNje6",
        "outputId": "a6b4c3a7-7efc-4f1c-843e-bff33c5cdf1a"
      },
      "execution_count": null,
      "outputs": [
        {
          "output_type": "stream",
          "name": "stdout",
          "text": [
            "/content/drive/MyDrive/text_data.txt\n"
          ]
        }
      ]
    },
    {
      "cell_type": "code",
      "source": [
        "# Basic Opeartions on strings\n",
        "str1='Hello!!'+'and Welcome to '+'Text analytics!!'\n",
        "str1"
      ],
      "metadata": {
        "colab": {
          "base_uri": "https://localhost:8080/",
          "height": 36
        },
        "id": "-QyhGL1-OMkr",
        "outputId": "5383bc63-3702-40e2-ba54-e0500404dab5"
      },
      "execution_count": null,
      "outputs": [
        {
          "output_type": "execute_result",
          "data": {
            "text/plain": [
              "'Hello!!and Welcome to Text analytics!!'"
            ],
            "application/vnd.google.colaboratory.intrinsic+json": {
              "type": "string"
            }
          },
          "metadata": {},
          "execution_count": 5
        }
      ]
    },
    {
      "cell_type": "code",
      "source": [
        "str2='Hello!!''and Welcome to ''Text analytics!!'\n",
        "str2"
      ],
      "metadata": {
        "colab": {
          "base_uri": "https://localhost:8080/",
          "height": 36
        },
        "id": "jCBOVLISOlqz",
        "outputId": "23918893-13f8-40ed-f9a8-0eb5db557966"
      },
      "execution_count": null,
      "outputs": [
        {
          "output_type": "execute_result",
          "data": {
            "text/plain": [
              "'Hello!!and Welcome to Text analytics!!'"
            ],
            "application/vnd.google.colaboratory.intrinsic+json": {
              "type": "string"
            }
          },
          "metadata": {},
          "execution_count": 6
        }
      ]
    },
    {
      "cell_type": "code",
      "source": [
        "# Getting multiline text\n",
        "print(str1+'\\n'+str2)"
      ],
      "metadata": {
        "colab": {
          "base_uri": "https://localhost:8080/"
        },
        "id": "qkSwBDUdOxiI",
        "outputId": "fe63d39f-c3c1-45e3-e3b8-d0b9b279d86a"
      },
      "execution_count": null,
      "outputs": [
        {
          "output_type": "stream",
          "name": "stdout",
          "text": [
            "Hello!!and Welcome to Text analytics!!\n",
            "Hello!!and Welcome to Text analytics!!\n"
          ]
        }
      ]
    },
    {
      "cell_type": "code",
      "source": [
        "print(str1*2)"
      ],
      "metadata": {
        "colab": {
          "base_uri": "https://localhost:8080/"
        },
        "id": "8b0AbSInPB0M",
        "outputId": "3446cd4c-b668-4ffb-de53-c9c85c98c3fc"
      },
      "execution_count": null,
      "outputs": [
        {
          "output_type": "stream",
          "name": "stdout",
          "text": [
            "Hello!!and Welcome to Text analytics!!Hello!!and Welcome to Text analytics!!\n"
          ]
        }
      ]
    },
    {
      "cell_type": "code",
      "source": [
        "# Concatenating the multiple strings\n",
        "multiple_str=('This ''is ''the ''Text Analytics session.''\\n''Please feel free to ask the doubts')\n",
        "print(multiple_str)"
      ],
      "metadata": {
        "colab": {
          "base_uri": "https://localhost:8080/"
        },
        "id": "3JJuh6vHPNPt",
        "outputId": "262e6cb9-f7be-4f22-8e07-4a4cbe55a4b3"
      },
      "execution_count": null,
      "outputs": [
        {
          "output_type": "stream",
          "name": "stdout",
          "text": [
            "This is the Text Analytics session.\n",
            "Please feel free to ask the doubts\n"
          ]
        }
      ]
    },
    {
      "cell_type": "code",
      "source": [
        "# To find the length of the string\n",
        "print(len(multiple_str))"
      ],
      "metadata": {
        "colab": {
          "base_uri": "https://localhost:8080/"
        },
        "id": "q0DMD5meQBgs",
        "outputId": "cd07b945-790a-40fc-83db-6a1188b5b522"
      },
      "execution_count": null,
      "outputs": [
        {
          "output_type": "stream",
          "name": "stdout",
          "text": [
            "70\n"
          ]
        }
      ]
    },
    {
      "cell_type": "code",
      "source": [
        "# The check for the substring in a string, which returns true or false\n",
        "'This' in multiple_str"
      ],
      "metadata": {
        "colab": {
          "base_uri": "https://localhost:8080/"
        },
        "id": "8kAmH7H4QRkk",
        "outputId": "a678d557-ce4e-4f83-d79e-3628ef0cb74e"
      },
      "execution_count": null,
      "outputs": [
        {
          "output_type": "execute_result",
          "data": {
            "text/plain": [
              "True"
            ]
          },
          "metadata": {},
          "execution_count": 11
        }
      ]
    },
    {
      "cell_type": "code",
      "source": [
        "'Web' in multiple_str"
      ],
      "metadata": {
        "colab": {
          "base_uri": "https://localhost:8080/"
        },
        "id": "Yj6kiNkTQkyb",
        "outputId": "8c7a30fb-92e4-40b3-eeae-4b961cf9f3ec"
      },
      "execution_count": null,
      "outputs": [
        {
          "output_type": "execute_result",
          "data": {
            "text/plain": [
              "False"
            ]
          },
          "metadata": {},
          "execution_count": 12
        }
      ]
    },
    {
      "cell_type": "code",
      "source": [
        "# To create a string for indexing and slicing\n",
        "str2='Python'\n",
        "for index, character in enumerate(str2):\n",
        "  print(character,index)"
      ],
      "metadata": {
        "colab": {
          "base_uri": "https://localhost:8080/"
        },
        "id": "UZrLYSQsQxXE",
        "outputId": "587706e3-284a-429f-d1ff-c833fe5cc771"
      },
      "execution_count": null,
      "outputs": [
        {
          "output_type": "stream",
          "name": "stdout",
          "text": [
            "P 0\n",
            "y 1\n",
            "t 2\n",
            "h 3\n",
            "o 4\n",
            "n 5\n"
          ]
        }
      ]
    },
    {
      "cell_type": "code",
      "source": [
        "# Print the characters in the orginal order\n",
        "str2[0],str2[1],str2[2],str2[3],str2[4],str2[5]"
      ],
      "metadata": {
        "colab": {
          "base_uri": "https://localhost:8080/"
        },
        "id": "TqwriEzMRiyF",
        "outputId": "23969c4b-0842-4b04-d304-8ec78bcfad50"
      },
      "execution_count": null,
      "outputs": [
        {
          "output_type": "execute_result",
          "data": {
            "text/plain": [
              "('P', 'y', 't', 'h', 'o', 'n')"
            ]
          },
          "metadata": {},
          "execution_count": 14
        }
      ]
    },
    {
      "cell_type": "code",
      "source": [
        "# Print the characters in the reverse order\n",
        "str2[-1],str2[-2],str2[-3],str2[-4],str2[-5],str2[-6]"
      ],
      "metadata": {
        "colab": {
          "base_uri": "https://localhost:8080/"
        },
        "id": "WSeDHJhuRzDI",
        "outputId": "e7b1cc4e-ad62-40ed-a1d8-ab370a7e8212"
      },
      "execution_count": null,
      "outputs": [
        {
          "output_type": "execute_result",
          "data": {
            "text/plain": [
              "('n', 'o', 'h', 't', 'y', 'P')"
            ]
          },
          "metadata": {},
          "execution_count": 15
        }
      ]
    },
    {
      "cell_type": "code",
      "source": [
        "# String Slicing\n",
        "str2[:]"
      ],
      "metadata": {
        "colab": {
          "base_uri": "https://localhost:8080/",
          "height": 36
        },
        "id": "mP5vrQkTSOcc",
        "outputId": "6f01a293-c751-4c6d-c694-fa0ee7ce40da"
      },
      "execution_count": null,
      "outputs": [
        {
          "output_type": "execute_result",
          "data": {
            "text/plain": [
              "'Python'"
            ],
            "application/vnd.google.colaboratory.intrinsic+json": {
              "type": "string"
            }
          },
          "metadata": {},
          "execution_count": 16
        }
      ]
    },
    {
      "cell_type": "code",
      "source": [
        "str2[1:5]"
      ],
      "metadata": {
        "colab": {
          "base_uri": "https://localhost:8080/",
          "height": 36
        },
        "id": "e_hvP341SbPR",
        "outputId": "1a8b64b4-59e8-4967-e5d6-77562a348833"
      },
      "execution_count": null,
      "outputs": [
        {
          "output_type": "execute_result",
          "data": {
            "text/plain": [
              "'ytho'"
            ],
            "application/vnd.google.colaboratory.intrinsic+json": {
              "type": "string"
            }
          },
          "metadata": {},
          "execution_count": 17
        }
      ]
    },
    {
      "cell_type": "code",
      "source": [
        "# To print characters upto 2 < 3\n",
        "str2[:3]"
      ],
      "metadata": {
        "colab": {
          "base_uri": "https://localhost:8080/",
          "height": 36
        },
        "id": "weOOrX6NSqjE",
        "outputId": "8c7e214c-d55b-48ab-c491-59a2f0a28f78"
      },
      "execution_count": null,
      "outputs": [
        {
          "output_type": "execute_result",
          "data": {
            "text/plain": [
              "'Pyt'"
            ],
            "application/vnd.google.colaboratory.intrinsic+json": {
              "type": "string"
            }
          },
          "metadata": {},
          "execution_count": 18
        }
      ]
    },
    {
      "cell_type": "code",
      "source": [
        "# To print characters beyond 3\n",
        "str2[3:]\n"
      ],
      "metadata": {
        "colab": {
          "base_uri": "https://localhost:8080/",
          "height": 36
        },
        "id": "mi58xRQ0S4Cg",
        "outputId": "6982f9fd-0467-47dc-d006-302e01b45f72"
      },
      "execution_count": null,
      "outputs": [
        {
          "output_type": "execute_result",
          "data": {
            "text/plain": [
              "'hon'"
            ],
            "application/vnd.google.colaboratory.intrinsic+json": {
              "type": "string"
            }
          },
          "metadata": {},
          "execution_count": 19
        }
      ]
    },
    {
      "cell_type": "code",
      "source": [
        "# Getting details of the string / text\n",
        "new_string = \"This is a String\" # storing a string\n",
        "print('ID:', id(new_string)) # shows the object identifier (address)\n",
        "print('Type:', type(new_string)) # shows the object type\n",
        "print('Value:', new_string) # shows the object value"
      ],
      "metadata": {
        "colab": {
          "base_uri": "https://localhost:8080/"
        },
        "id": "qJOCsxMZzXP9",
        "outputId": "e8d1b1a2-4d65-47f8-ec11-432ae0bea910"
      },
      "execution_count": null,
      "outputs": [
        {
          "output_type": "stream",
          "name": "stdout",
          "text": [
            "ID: 140200595193040\n",
            "Type: <class 'str'>\n",
            "Value: This is a String\n"
          ]
        }
      ]
    },
    {
      "cell_type": "code",
      "source": [
        "# String Methods\n",
        "# creates a new string\n",
        "s=''\n",
        "print(s)"
      ],
      "metadata": {
        "colab": {
          "base_uri": "https://localhost:8080/"
        },
        "id": "KP8t_4WDdg4z",
        "outputId": "b368ec4a-f487-4f89-e2e5-9905cf919820"
      },
      "execution_count": null,
      "outputs": [
        {
          "output_type": "stream",
          "name": "stdout",
          "text": [
            "\n"
          ]
        }
      ]
    },
    {
      "cell_type": "code",
      "source": [
        "print('orginal string id',id(s))\n",
        "# add a character to the string\n",
        "s='B'+s[1:]"
      ],
      "metadata": {
        "colab": {
          "base_uri": "https://localhost:8080/"
        },
        "id": "xupOEYVA14N5",
        "outputId": "7ad932ad-7cc3-40c6-ee1d-ab73adad467a"
      },
      "execution_count": null,
      "outputs": [
        {
          "output_type": "stream",
          "name": "stdout",
          "text": [
            "orginal string id 140201026846768\n"
          ]
        }
      ]
    },
    {
      "cell_type": "code",
      "source": [
        "print(s)"
      ],
      "metadata": {
        "colab": {
          "base_uri": "https://localhost:8080/"
        },
        "id": "hIvqJUKf2Zy2",
        "outputId": "e76a6f10-cc17-4b66-9111-e885b17345a6"
      },
      "execution_count": null,
      "outputs": [
        {
          "output_type": "stream",
          "name": "stdout",
          "text": [
            "B\n"
          ]
        }
      ]
    },
    {
      "cell_type": "code",
      "source": [
        "s='BIRLA'+s[1:]"
      ],
      "metadata": {
        "id": "aRqsvGaC2QfY"
      },
      "execution_count": null,
      "outputs": []
    },
    {
      "cell_type": "code",
      "source": [
        "print(s)"
      ],
      "metadata": {
        "colab": {
          "base_uri": "https://localhost:8080/"
        },
        "id": "9SnMIFj02HyY",
        "outputId": "e2a34564-38a9-41d5-9870-90e98f6c03a2"
      },
      "execution_count": null,
      "outputs": [
        {
          "output_type": "stream",
          "name": "stdout",
          "text": [
            "BIRLA\n"
          ]
        }
      ]
    },
    {
      "cell_type": "code",
      "source": [
        "print('new string id',id(s))"
      ],
      "metadata": {
        "colab": {
          "base_uri": "https://localhost:8080/"
        },
        "id": "VKCo6VP02tJc",
        "outputId": "4c42c3db-3181-4ea8-8f0b-de46f74c5915"
      },
      "execution_count": null,
      "outputs": [
        {
          "output_type": "stream",
          "name": "stdout",
          "text": [
            "new string id 140200595248176\n"
          ]
        }
      ]
    },
    {
      "cell_type": "code",
      "source": [
        "# String Methods\n",
        "str='NLP is great!!'"
      ],
      "metadata": {
        "id": "ae92Xtsq3ATg"
      },
      "execution_count": null,
      "outputs": []
    },
    {
      "cell_type": "code",
      "source": [
        "# case conversion\n",
        "# 1 Capitalise - First Character of the begining word will be capitalized\n",
        "str.capitalize()"
      ],
      "metadata": {
        "colab": {
          "base_uri": "https://localhost:8080/",
          "height": 36
        },
        "id": "anxWkuF83Ho7",
        "outputId": "5bf5518a-1c9b-4a99-c326-068f7eafc5c0"
      },
      "execution_count": null,
      "outputs": [
        {
          "output_type": "execute_result",
          "data": {
            "text/plain": [
              "'Nlp is great!!'"
            ],
            "application/vnd.google.colaboratory.intrinsic+json": {
              "type": "string"
            }
          },
          "metadata": {},
          "execution_count": 28
        }
      ]
    },
    {
      "cell_type": "code",
      "source": [
        "# 2 Upper case - all the characters will be in upper case\n",
        "str.upper()"
      ],
      "metadata": {
        "colab": {
          "base_uri": "https://localhost:8080/",
          "height": 36
        },
        "id": "W6YRy6OM3cXe",
        "outputId": "89c8d4c6-d6b1-4df3-c7b7-37e3100fd77d"
      },
      "execution_count": null,
      "outputs": [
        {
          "output_type": "execute_result",
          "data": {
            "text/plain": [
              "'NLP IS GREAT!!'"
            ],
            "application/vnd.google.colaboratory.intrinsic+json": {
              "type": "string"
            }
          },
          "metadata": {},
          "execution_count": 29
        }
      ]
    },
    {
      "cell_type": "code",
      "source": [
        "# 2 a Lower case - all the letters are in lower case\n",
        "str.lower()"
      ],
      "metadata": {
        "colab": {
          "base_uri": "https://localhost:8080/",
          "height": 36
        },
        "id": "JAHwwerb4Fun",
        "outputId": "51d14b63-1fe7-4eaa-f975-03b61499a188"
      },
      "execution_count": null,
      "outputs": [
        {
          "output_type": "execute_result",
          "data": {
            "text/plain": [
              "'nlp is great!!'"
            ],
            "application/vnd.google.colaboratory.intrinsic+json": {
              "type": "string"
            }
          },
          "metadata": {},
          "execution_count": 30
        }
      ]
    },
    {
      "cell_type": "code",
      "source": [
        "# 3 Sentence in title case - first charcter of every word is in upper case\n",
        "str.title()"
      ],
      "metadata": {
        "colab": {
          "base_uri": "https://localhost:8080/",
          "height": 36
        },
        "id": "GsXvNn2z3qsz",
        "outputId": "d6685c85-c2cb-4ace-9dfa-7848db187bdd"
      },
      "execution_count": null,
      "outputs": [
        {
          "output_type": "execute_result",
          "data": {
            "text/plain": [
              "'Nlp Is Great!!'"
            ],
            "application/vnd.google.colaboratory.intrinsic+json": {
              "type": "string"
            }
          },
          "metadata": {},
          "execution_count": 31
        }
      ]
    },
    {
      "cell_type": "code",
      "source": [
        "# String replacment in the text\n",
        "str.replace('NLP','Python')"
      ],
      "metadata": {
        "colab": {
          "base_uri": "https://localhost:8080/",
          "height": 36
        },
        "id": "ElV2nmOd4SZC",
        "outputId": "334104e9-f130-43e6-d93e-b8c4a49ea167"
      },
      "execution_count": null,
      "outputs": [
        {
          "output_type": "execute_result",
          "data": {
            "text/plain": [
              "'Python is great!!'"
            ],
            "application/vnd.google.colaboratory.intrinsic+json": {
              "type": "string"
            }
          },
          "metadata": {},
          "execution_count": 32
        }
      ]
    },
    {
      "cell_type": "code",
      "source": [
        "# Checks on the strings/word- numeric, alpha, alphanumeric\n",
        "str.isnumeric()"
      ],
      "metadata": {
        "colab": {
          "base_uri": "https://localhost:8080/"
        },
        "id": "bqR6JJCm4iv9",
        "outputId": "342e6bad-5089-466c-c1f8-9877ae5f082c"
      },
      "execution_count": null,
      "outputs": [
        {
          "output_type": "execute_result",
          "data": {
            "text/plain": [
              "False"
            ]
          },
          "metadata": {},
          "execution_count": 33
        }
      ]
    },
    {
      "cell_type": "code",
      "source": [
        "str.isalpha()"
      ],
      "metadata": {
        "colab": {
          "base_uri": "https://localhost:8080/"
        },
        "id": "n20goX6P4_rp",
        "outputId": "d8b3326b-20c8-4a77-d456-ad57e04bb079"
      },
      "execution_count": null,
      "outputs": [
        {
          "output_type": "execute_result",
          "data": {
            "text/plain": [
              "False"
            ]
          },
          "metadata": {},
          "execution_count": 34
        }
      ]
    },
    {
      "cell_type": "code",
      "source": [
        "str.isalnum()"
      ],
      "metadata": {
        "colab": {
          "base_uri": "https://localhost:8080/"
        },
        "id": "VwJzuSes5LP7",
        "outputId": "3d4dc57d-0d8b-4cb4-f407-6195ccc8338c"
      },
      "execution_count": null,
      "outputs": [
        {
          "output_type": "execute_result",
          "data": {
            "text/plain": [
              "False"
            ]
          },
          "metadata": {},
          "execution_count": 35
        }
      ]
    },
    {
      "cell_type": "code",
      "source": [
        "str1='12345'\n",
        "str1.isnumeric()"
      ],
      "metadata": {
        "colab": {
          "base_uri": "https://localhost:8080/"
        },
        "id": "QNxOwbma4-ry",
        "outputId": "3b31f1a6-9317-470e-e04e-ebf2bd7ed0f5"
      },
      "execution_count": null,
      "outputs": [
        {
          "output_type": "execute_result",
          "data": {
            "text/plain": [
              "True"
            ]
          },
          "metadata": {},
          "execution_count": 36
        }
      ]
    },
    {
      "cell_type": "code",
      "source": [
        "str2='emp101'\n",
        "str2.isalnum()"
      ],
      "metadata": {
        "colab": {
          "base_uri": "https://localhost:8080/"
        },
        "id": "j-VfJfVK5mGF",
        "outputId": "ab390429-2e8f-4685-a205-357c1a68b0e2"
      },
      "execution_count": null,
      "outputs": [
        {
          "output_type": "execute_result",
          "data": {
            "text/plain": [
              "True"
            ]
          },
          "metadata": {},
          "execution_count": 37
        }
      ]
    },
    {
      "cell_type": "code",
      "source": [
        "str3='15+20'\n",
        "str3.isnumeric()"
      ],
      "metadata": {
        "colab": {
          "base_uri": "https://localhost:8080/"
        },
        "id": "tFVsCF4I5-A6",
        "outputId": "56321000-37cf-4848-bc6c-8eab92ec5975"
      },
      "execution_count": null,
      "outputs": [
        {
          "output_type": "execute_result",
          "data": {
            "text/plain": [
              "False"
            ]
          },
          "metadata": {},
          "execution_count": 38
        }
      ]
    },
    {
      "cell_type": "code",
      "source": [
        "str3.isalpha()"
      ],
      "metadata": {
        "colab": {
          "base_uri": "https://localhost:8080/"
        },
        "id": "kA0rihP56UpR",
        "outputId": "18545379-f3c1-4a4a-e421-158eab3c5d69"
      },
      "execution_count": null,
      "outputs": [
        {
          "output_type": "execute_result",
          "data": {
            "text/plain": [
              "False"
            ]
          },
          "metadata": {},
          "execution_count": 39
        }
      ]
    },
    {
      "cell_type": "code",
      "source": [
        "str3.isalnum()"
      ],
      "metadata": {
        "colab": {
          "base_uri": "https://localhost:8080/"
        },
        "id": "qyEdqkkZ6WjR",
        "outputId": "d005f025-6e36-496e-d390-1e783ca43b67"
      },
      "execution_count": null,
      "outputs": [
        {
          "output_type": "execute_result",
          "data": {
            "text/plain": [
              "False"
            ]
          },
          "metadata": {},
          "execution_count": 40
        }
      ]
    },
    {
      "cell_type": "code",
      "source": [
        "# to split, join, and strip the given strings\n",
        "str4='I, love, indian, food'"
      ],
      "metadata": {
        "id": "qMQHwI4-6lDd"
      },
      "execution_count": null,
      "outputs": []
    },
    {
      "cell_type": "code",
      "source": [
        "# Split\n",
        "str4.split()"
      ],
      "metadata": {
        "colab": {
          "base_uri": "https://localhost:8080/"
        },
        "id": "5DYUY23e6ztV",
        "outputId": "4df25f9f-4a43-416f-91a7-e3c0f5589565"
      },
      "execution_count": null,
      "outputs": [
        {
          "output_type": "execute_result",
          "data": {
            "text/plain": [
              "['I,', 'love,', 'indian,', 'food']"
            ]
          },
          "metadata": {},
          "execution_count": 42
        }
      ]
    },
    {
      "cell_type": "code",
      "source": [
        "# Joining the words by a blank space instead a ','\n",
        "' '.join(str4.split(','))"
      ],
      "metadata": {
        "colab": {
          "base_uri": "https://localhost:8080/",
          "height": 36
        },
        "id": "-Lkto4A87D9Q",
        "outputId": "a15533dc-e3de-4722-d82c-99abc0ac87c2"
      },
      "execution_count": null,
      "outputs": [
        {
          "output_type": "execute_result",
          "data": {
            "text/plain": [
              "'I  love  indian  food'"
            ],
            "application/vnd.google.colaboratory.intrinsic+json": {
              "type": "string"
            }
          },
          "metadata": {},
          "execution_count": 43
        }
      ]
    },
    {
      "cell_type": "code",
      "source": [
        "str5='  Python is great!!'\n",
        "str5"
      ],
      "metadata": {
        "colab": {
          "base_uri": "https://localhost:8080/",
          "height": 36
        },
        "id": "ebziucJN8CRY",
        "outputId": "8e7ab266-deae-4be1-fa50-7bb42093b9fa"
      },
      "execution_count": null,
      "outputs": [
        {
          "output_type": "execute_result",
          "data": {
            "text/plain": [
              "'  Python is great!!'"
            ],
            "application/vnd.google.colaboratory.intrinsic+json": {
              "type": "string"
            }
          },
          "metadata": {},
          "execution_count": 44
        }
      ]
    },
    {
      "cell_type": "code",
      "source": [
        "# Removing the blank space using 'strip'\n",
        "str5.strip()"
      ],
      "metadata": {
        "colab": {
          "base_uri": "https://localhost:8080/",
          "height": 36
        },
        "id": "oK_zhFRl8Yo9",
        "outputId": "16e54dd7-cc35-46e2-85ef-5bd4dd5045a1"
      },
      "execution_count": null,
      "outputs": [
        {
          "output_type": "execute_result",
          "data": {
            "text/plain": [
              "'Python is great!!'"
            ],
            "application/vnd.google.colaboratory.intrinsic+json": {
              "type": "string"
            }
          },
          "metadata": {},
          "execution_count": 45
        }
      ]
    },
    {
      "cell_type": "code",
      "source": [
        "# Sentences with mmutliple statements\n",
        "sent1='NLP is great. Python is excellent.'"
      ],
      "metadata": {
        "id": "GuohyyO28sCu"
      },
      "execution_count": null,
      "outputs": []
    },
    {
      "cell_type": "code",
      "source": [
        "# Split the sentence\n",
        "sent1.split()"
      ],
      "metadata": {
        "colab": {
          "base_uri": "https://localhost:8080/"
        },
        "id": "pTxLWJ4L9ISI",
        "outputId": "70e700d1-cf02-4190-a057-e9fdc0961e65"
      },
      "execution_count": null,
      "outputs": [
        {
          "output_type": "execute_result",
          "data": {
            "text/plain": [
              "['NLP', 'is', 'great.', 'Python', 'is', 'excellent.']"
            ]
          },
          "metadata": {},
          "execution_count": 47
        }
      ]
    },
    {
      "cell_type": "code",
      "source": [
        "# Display the sentences separately when they are separated by '.' and join them back\n",
        "# and display them on the two new lines\n",
        "print('\\n'.join(sent1.split('.')))"
      ],
      "metadata": {
        "colab": {
          "base_uri": "https://localhost:8080/"
        },
        "id": "SQcjQ9hk9ZcZ",
        "outputId": "315f0658-f952-47a1-9065-017d259a7c4e"
      },
      "execution_count": null,
      "outputs": [
        {
          "output_type": "stream",
          "name": "stdout",
          "text": [
            "NLP is great\n",
            " Python is excellent\n",
            "\n"
          ]
        }
      ]
    },
    {
      "cell_type": "code",
      "source": [
        "sent1.strip()"
      ],
      "metadata": {
        "colab": {
          "base_uri": "https://localhost:8080/",
          "height": 36
        },
        "id": "-8NXt3Fs-qXa",
        "outputId": "9b911bd8-8235-4f57-fe92-41e8e4b90a5f"
      },
      "execution_count": null,
      "outputs": [
        {
          "output_type": "execute_result",
          "data": {
            "text/plain": [
              "'NLP is great. Python is excellent.'"
            ],
            "application/vnd.google.colaboratory.intrinsic+json": {
              "type": "string"
            }
          },
          "metadata": {},
          "execution_count": 49
        }
      ]
    },
    {
      "cell_type": "code",
      "source": [
        "# Printing every character on the new line\n",
        "print('\\n'.join(sent1.strip()))"
      ],
      "metadata": {
        "colab": {
          "base_uri": "https://localhost:8080/"
        },
        "id": "Dtthr2Dz-zbo",
        "outputId": "71891f73-dd23-4440-fea0-1d2b62b31857"
      },
      "execution_count": null,
      "outputs": [
        {
          "output_type": "stream",
          "name": "stdout",
          "text": [
            "N\n",
            "L\n",
            "P\n",
            " \n",
            "i\n",
            "s\n",
            " \n",
            "g\n",
            "r\n",
            "e\n",
            "a\n",
            "t\n",
            ".\n",
            " \n",
            "P\n",
            "y\n",
            "t\n",
            "h\n",
            "o\n",
            "n\n",
            " \n",
            "i\n",
            "s\n",
            " \n",
            "e\n",
            "x\n",
            "c\n",
            "e\n",
            "l\n",
            "l\n",
            "e\n",
            "n\n",
            "t\n",
            ".\n"
          ]
        }
      ]
    },
    {
      "cell_type": "code",
      "source": [
        "print('\\n'.join([sent1.strip() for sent1 in sent1.split('.') if sent1]))"
      ],
      "metadata": {
        "colab": {
          "base_uri": "https://localhost:8080/"
        },
        "id": "RGjHGC-3_GIw",
        "outputId": "41181499-73df-469b-f07b-17c047e00cb0"
      },
      "execution_count": null,
      "outputs": [
        {
          "output_type": "stream",
          "name": "stdout",
          "text": [
            "NLP is great\n",
            "Python is excellent\n"
          ]
        }
      ]
    },
    {
      "cell_type": "code",
      "source": [
        "'Hello %s' %('Python!')"
      ],
      "metadata": {
        "colab": {
          "base_uri": "https://localhost:8080/",
          "height": 36
        },
        "id": "FSX5DRz1Bpv5",
        "outputId": "71b6ee78-d195-4c96-b289-4529aa30b547"
      },
      "execution_count": null,
      "outputs": [
        {
          "output_type": "execute_result",
          "data": {
            "text/plain": [
              "'Hello Python!'"
            ],
            "application/vnd.google.colaboratory.intrinsic+json": {
              "type": "string"
            }
          },
          "metadata": {},
          "execution_count": 52
        }
      ]
    },
    {
      "cell_type": "code",
      "source": [
        "'Hello %s %s' %('World!', 'How are you?')"
      ],
      "metadata": {
        "colab": {
          "base_uri": "https://localhost:8080/",
          "height": 36
        },
        "id": "UNFkFR23BzTW",
        "outputId": "aa237c4f-0cb3-4e17-d6e8-fb13278ffed4"
      },
      "execution_count": null,
      "outputs": [
        {
          "output_type": "execute_result",
          "data": {
            "text/plain": [
              "'Hello World! How are you?'"
            ],
            "application/vnd.google.colaboratory.intrinsic+json": {
              "type": "string"
            }
          },
          "metadata": {},
          "execution_count": 53
        }
      ]
    },
    {
      "cell_type": "code",
      "source": [
        "'I want %d %s' %(2,'pens')"
      ],
      "metadata": {
        "colab": {
          "base_uri": "https://localhost:8080/",
          "height": 36
        },
        "id": "Kzmo5JrECFvi",
        "outputId": "8508ab32-b409-4c48-8ca5-588abee3af36"
      },
      "execution_count": null,
      "outputs": [
        {
          "output_type": "execute_result",
          "data": {
            "text/plain": [
              "'I want 2 pens'"
            ],
            "application/vnd.google.colaboratory.intrinsic+json": {
              "type": "string"
            }
          },
          "metadata": {},
          "execution_count": 54
        }
      ]
    },
    {
      "cell_type": "code",
      "source": [
        "# Formatting the string with new formatting methods - using string format {}\n",
        "'Hello {} {}, it is a great {} meeting you at {}'.format('Mr.','India','pleasure','5')"
      ],
      "metadata": {
        "colab": {
          "base_uri": "https://localhost:8080/",
          "height": 36
        },
        "id": "5VNvHAoDBLA_",
        "outputId": "c311b322-a372-40d3-ec62-dce89ea93096"
      },
      "execution_count": null,
      "outputs": [
        {
          "output_type": "execute_result",
          "data": {
            "text/plain": [
              "'Hello Mr. India, it is a great pleasure meeting you at 5'"
            ],
            "application/vnd.google.colaboratory.intrinsic+json": {
              "type": "string"
            }
          },
          "metadata": {},
          "execution_count": 55
        }
      ]
    },
    {
      "cell_type": "code",
      "source": [
        "'Hello {} {}, it is a great {} meeting you at {} o\\'clock'.format('Mr.','India','pleasure','5')"
      ],
      "metadata": {
        "colab": {
          "base_uri": "https://localhost:8080/",
          "height": 36
        },
        "id": "Vg3FYwR0DXPV",
        "outputId": "abbaf606-57f3-4a3e-adc0-cbb1ec905c84"
      },
      "execution_count": null,
      "outputs": [
        {
          "output_type": "execute_result",
          "data": {
            "text/plain": [
              "\"Hello Mr. India, it is a great pleasure meeting you at 5 o'clock\""
            ],
            "application/vnd.google.colaboratory.intrinsic+json": {
              "type": "string"
            }
          },
          "metadata": {},
          "execution_count": 56
        }
      ]
    },
    {
      "cell_type": "code",
      "source": [
        "'Hello, I want one {food_item} and a {drink_item}'.format(food_item='vada_pav',drink_item='coffee')"
      ],
      "metadata": {
        "colab": {
          "base_uri": "https://localhost:8080/",
          "height": 36
        },
        "id": "Xt2A7v6nDvZG",
        "outputId": "ec98801e-f606-4631-a089-7a84d9779482"
      },
      "execution_count": null,
      "outputs": [
        {
          "output_type": "execute_result",
          "data": {
            "text/plain": [
              "'Hello, I want one vada_pav and a coffee'"
            ],
            "application/vnd.google.colaboratory.intrinsic+json": {
              "type": "string"
            }
          },
          "metadata": {},
          "execution_count": 57
        }
      ]
    },
    {
      "cell_type": "code",
      "source": [
        "'The {color} {animal} is {adj1} and {adj2}'.format(color='brown',animal='fox',adj1='quick',adj2='persistent')"
      ],
      "metadata": {
        "colab": {
          "base_uri": "https://localhost:8080/",
          "height": 36
        },
        "id": "YueOHiSWEj34",
        "outputId": "b18fd83b-caf1-42d8-bfdc-8eda4f3b2a75"
      },
      "execution_count": null,
      "outputs": [
        {
          "output_type": "execute_result",
          "data": {
            "text/plain": [
              "'The brown fox is quick and persistent'"
            ],
            "application/vnd.google.colaboratory.intrinsic+json": {
              "type": "string"
            }
          },
          "metadata": {},
          "execution_count": 58
        }
      ]
    },
    {
      "cell_type": "code",
      "source": [
        "'The {color} {animal} is {adj1} but {adj2}'.format(color='white',animal='rabbit',adj1='fast',adj2='lazy')"
      ],
      "metadata": {
        "colab": {
          "base_uri": "https://localhost:8080/",
          "height": 36
        },
        "id": "3sQIYoO7FS0U",
        "outputId": "0f4e0c23-0b3a-40bb-8bb3-886c46240b21"
      },
      "execution_count": null,
      "outputs": [
        {
          "output_type": "execute_result",
          "data": {
            "text/plain": [
              "'The white rabbit is fast but lazy'"
            ],
            "application/vnd.google.colaboratory.intrinsic+json": {
              "type": "string"
            }
          },
          "metadata": {},
          "execution_count": 59
        }
      ]
    },
    {
      "cell_type": "markdown",
      "source": [
        "### Working(creating and using) with regular expressions(regexes) using the module 're'\n",
        "### Regexes have the patterns denoted by thye raw string notations.\n",
        "### Pattens are matched using the string rules defined on the patterns\n",
        "### re module defines the flags which are used to match the particular pattern\n",
        "### re.I, re.S, re.U\n",
        "### Rules used for matching the patterns\n",
        "###. - matching a single character\n",
        "###^ - matching the start of the string\n",
        "###$ - matching the end of the string\n",
        "###* for matching zero\n",
        "### depending upon the requirement we can use variations of ., ^,...\n",
        "### | - OR, + , \\d (decimal), \\D(non - decimal) # \\s(white space), \\S(non - white space)\\w\n",
        "### (aplhanumeric),\\W(non- alphanumeric)\n",
        "### re.match(), re.search(), re.findall(),re.finditer(), re.sub(),........"
      ],
      "metadata": {
        "id": "DifCtKE3GHdY"
      }
    },
    {
      "cell_type": "code",
      "source": [
        "# working with regular expressions\n",
        "s1='Python is excellent Language'\n",
        "s2='I love Python Language. We can use python language for building the applications'"
      ],
      "metadata": {
        "id": "z22QWmmOF9EN"
      },
      "execution_count": null,
      "outputs": []
    },
    {
      "cell_type": "code",
      "source": [
        "# Import re\n",
        "import re"
      ],
      "metadata": {
        "id": "ULnaP0_VI_ea"
      },
      "execution_count": null,
      "outputs": []
    },
    {
      "cell_type": "code",
      "source": [
        "# define the patterns to be matched\n",
        "pattern1='python'\n",
        "pattern2='language'"
      ],
      "metadata": {
        "id": "yJ73tl_cJl2k"
      },
      "execution_count": null,
      "outputs": []
    },
    {
      "cell_type": "code",
      "source": [
        "# match the patterns in teh sentences\n",
        "re.match(pattern1,s1)"
      ],
      "metadata": {
        "id": "piODBouyKC6A"
      },
      "execution_count": null,
      "outputs": []
    },
    {
      "cell_type": "code",
      "source": [
        "re.match(pattern2,s1)"
      ],
      "metadata": {
        "id": "4kJTdEQPNlYZ"
      },
      "execution_count": null,
      "outputs": []
    },
    {
      "cell_type": "code",
      "source": [
        "m1=re.match(pattern1,s1,flags=re.I) # IGNORCASE also wroks on the simialr lines"
      ],
      "metadata": {
        "id": "zS9CgHZoKQkA"
      },
      "execution_count": null,
      "outputs": []
    },
    {
      "cell_type": "code",
      "source": [
        "m1.group(0)"
      ],
      "metadata": {
        "colab": {
          "base_uri": "https://localhost:8080/",
          "height": 36
        },
        "id": "nU5g-AXTLuRy",
        "outputId": "3d5b1b5b-fe5a-49a6-ef53-e70235b9f6d7"
      },
      "execution_count": null,
      "outputs": [
        {
          "output_type": "execute_result",
          "data": {
            "text/plain": [
              "'Python'"
            ],
            "application/vnd.google.colaboratory.intrinsic+json": {
              "type": "string"
            }
          },
          "metadata": {},
          "execution_count": 66
        }
      ]
    },
    {
      "cell_type": "code",
      "source": [
        "m1.start()"
      ],
      "metadata": {
        "colab": {
          "base_uri": "https://localhost:8080/"
        },
        "id": "rQEkSg4SL89d",
        "outputId": "488d6ff1-77cc-42d1-a54c-11fe2503484b"
      },
      "execution_count": null,
      "outputs": [
        {
          "output_type": "execute_result",
          "data": {
            "text/plain": [
              "0"
            ]
          },
          "metadata": {},
          "execution_count": 67
        }
      ]
    },
    {
      "cell_type": "code",
      "source": [
        "m1.end()"
      ],
      "metadata": {
        "colab": {
          "base_uri": "https://localhost:8080/"
        },
        "id": "f2CB6tzlMBVl",
        "outputId": "05d7322d-1265-41b4-91af-c1b47746c5a1"
      },
      "execution_count": null,
      "outputs": [
        {
          "output_type": "execute_result",
          "data": {
            "text/plain": [
              "6"
            ]
          },
          "metadata": {},
          "execution_count": 68
        }
      ]
    },
    {
      "cell_type": "code",
      "source": [
        "# Print the matches with their indexes in the orginal sentences\n",
        "print('Match is found {} ranging from the index {} - {} in the sentence {}'.format(m1.group(0),m1.start(),m1.end(),s1))"
      ],
      "metadata": {
        "colab": {
          "base_uri": "https://localhost:8080/"
        },
        "id": "LO8-aj1FK1uN",
        "outputId": "f5967495-fa1f-42e9-9d5e-363685237304"
      },
      "execution_count": null,
      "outputs": [
        {
          "output_type": "stream",
          "name": "stdout",
          "text": [
            "Match is found Python ranging from the index 0 - 6 in the sentence Python is excellent Language\n"
          ]
        }
      ]
    },
    {
      "cell_type": "code",
      "source": [
        "m2=re.match(pattern2,s2,flags=re.I)"
      ],
      "metadata": {
        "id": "Z6dCojwHM11G"
      },
      "execution_count": null,
      "outputs": []
    },
    {
      "cell_type": "code",
      "source": [
        "print(m2)"
      ],
      "metadata": {
        "colab": {
          "base_uri": "https://localhost:8080/"
        },
        "id": "XgSEOR-0OQYN",
        "outputId": "341291db-2c25-4dcb-8dbe-2441582ce3e3"
      },
      "execution_count": null,
      "outputs": [
        {
          "output_type": "stream",
          "name": "stdout",
          "text": [
            "None\n"
          ]
        }
      ]
    },
    {
      "cell_type": "markdown",
      "source": [
        "##Match does not work when pattern is not there in the beginning of sentence s2"
      ],
      "metadata": {
        "id": "HfJDD4stEyzX"
      }
    },
    {
      "cell_type": "code",
      "source": [
        "# illustrating find and search methods using the re module\n",
        "re.search(pattern2, s2, re.IGNORECASE)"
      ],
      "metadata": {
        "colab": {
          "base_uri": "https://localhost:8080/"
        },
        "id": "yVbZaG8AE3Ra",
        "outputId": "8fc0a13b-c923-4a6b-b1f7-09835f193a46"
      },
      "execution_count": null,
      "outputs": [
        {
          "output_type": "execute_result",
          "data": {
            "text/plain": [
              "<re.Match object; span=(14, 22), match='Language'>"
            ]
          },
          "metadata": {},
          "execution_count": 72
        }
      ]
    },
    {
      "cell_type": "code",
      "source": [
        "re.findall(pattern1, s1, re.IGNORECASE)"
      ],
      "metadata": {
        "colab": {
          "base_uri": "https://localhost:8080/"
        },
        "id": "bpA1iWZV3uxp",
        "outputId": "8afa6e99-cfdd-4ac7-a0ed-b8709e2c3220"
      },
      "execution_count": null,
      "outputs": [
        {
          "output_type": "execute_result",
          "data": {
            "text/plain": [
              "['Python']"
            ]
          },
          "metadata": {},
          "execution_count": 73
        }
      ]
    },
    {
      "cell_type": "code",
      "source": [
        "re.findall(pattern2, s2, re.IGNORECASE)"
      ],
      "metadata": {
        "colab": {
          "base_uri": "https://localhost:8080/"
        },
        "id": "TiS5YGWp3yeQ",
        "outputId": "703ff517-3045-48b0-f655-461f5ba08422"
      },
      "execution_count": null,
      "outputs": [
        {
          "output_type": "execute_result",
          "data": {
            "text/plain": [
              "['Language', 'language']"
            ]
          },
          "metadata": {},
          "execution_count": 74
        }
      ]
    },
    {
      "cell_type": "code",
      "source": [
        "# To find all the occurences of pattern\n",
        "re.findall(pattern1, s2, re.IGNORECASE)"
      ],
      "metadata": {
        "colab": {
          "base_uri": "https://localhost:8080/"
        },
        "id": "TCBL0JIoFL1u",
        "outputId": "d3c7531d-45a9-4c9d-843b-880858086573"
      },
      "execution_count": null,
      "outputs": [
        {
          "output_type": "execute_result",
          "data": {
            "text/plain": [
              "['Python', 'python']"
            ]
          },
          "metadata": {},
          "execution_count": 75
        }
      ]
    },
    {
      "cell_type": "code",
      "source": [
        "re.findall(pattern2, s2,re.I)"
      ],
      "metadata": {
        "colab": {
          "base_uri": "https://localhost:8080/"
        },
        "id": "ndYP9pOdFGz3",
        "outputId": "5cc94553-66b6-4ed5-ab9f-835ac03d74e8"
      },
      "execution_count": null,
      "outputs": [
        {
          "output_type": "execute_result",
          "data": {
            "text/plain": [
              "['Language', 'language']"
            ]
          },
          "metadata": {},
          "execution_count": 76
        }
      ]
    },
    {
      "cell_type": "code",
      "source": [
        "match_objs = re.finditer(pattern2, s2, re.IGNORECASE)"
      ],
      "metadata": {
        "id": "WPhES1bbFiHj"
      },
      "execution_count": null,
      "outputs": []
    },
    {
      "cell_type": "code",
      "source": [
        "match_objs"
      ],
      "metadata": {
        "colab": {
          "base_uri": "https://localhost:8080/"
        },
        "id": "4hEKp5G3Fl4N",
        "outputId": "f7a3e4a4-c6da-4d3f-9f1a-c47424338e91"
      },
      "execution_count": null,
      "outputs": [
        {
          "output_type": "execute_result",
          "data": {
            "text/plain": [
              "<callable_iterator at 0x7f82fea95780>"
            ]
          },
          "metadata": {},
          "execution_count": 78
        }
      ]
    },
    {
      "cell_type": "code",
      "source": [
        "print(match_objs)"
      ],
      "metadata": {
        "colab": {
          "base_uri": "https://localhost:8080/"
        },
        "id": "MMahGiJj4Q5h",
        "outputId": "f234b93b-9602-4222-ff66-af48ce8a2d87"
      },
      "execution_count": null,
      "outputs": [
        {
          "output_type": "stream",
          "name": "stdout",
          "text": [
            "<callable_iterator object at 0x7f82fea95780>\n"
          ]
        }
      ]
    },
    {
      "cell_type": "code",
      "source": [
        "print(\"Sentence :\", s2)"
      ],
      "metadata": {
        "colab": {
          "base_uri": "https://localhost:8080/"
        },
        "id": "VCVDRXOvFuKw",
        "outputId": "fc6a19c5-6eaf-4954-d36f-abec9b68c0f2"
      },
      "execution_count": null,
      "outputs": [
        {
          "output_type": "stream",
          "name": "stdout",
          "text": [
            "Sentence : I love Python Language. We can use python language for building the applications\n"
          ]
        }
      ]
    },
    {
      "cell_type": "code",
      "source": [
        "for m in match_objs:\n",
        "  print(m.group(0))\n",
        "  print('Found match \"{}\" ranging from index {} - {}'.format\n",
        "(m.group(0), m.start(), m.end()))"
      ],
      "metadata": {
        "colab": {
          "base_uri": "https://localhost:8080/"
        },
        "id": "uEgCQBZMF2kn",
        "outputId": "15eb8f35-ba3b-4e47-bf8a-6532666461e9"
      },
      "execution_count": null,
      "outputs": [
        {
          "output_type": "stream",
          "name": "stdout",
          "text": [
            "Language\n",
            "Found match \"Language\" ranging from index 14 - 22\n",
            "language\n",
            "Found match \"language\" ranging from index 42 - 50\n"
          ]
        }
      ]
    },
    {
      "cell_type": "markdown",
      "source": [
        "## Regular expressions for text substitution are useful to find and replace specific text tokens in strings."
      ],
      "metadata": {
        "id": "gFxmuYDcGDEK"
      }
    },
    {
      "cell_type": "code",
      "source": [
        "print(\"Sentence :\", s2)"
      ],
      "metadata": {
        "colab": {
          "base_uri": "https://localhost:8080/"
        },
        "id": "sm35Tc8y6CTw",
        "outputId": "bbd1e78b-a38b-4f55-8704-35cad0ecf13f"
      },
      "execution_count": null,
      "outputs": [
        {
          "output_type": "stream",
          "name": "stdout",
          "text": [
            "Sentence : I love Python Language. We can use python language for building the applications\n"
          ]
        }
      ]
    },
    {
      "cell_type": "code",
      "source": [
        "# illustrating pattern substitution using sub and subn methods\n",
        "re.sub(pattern1, 'Ruby', s2, flags=re.IGNORECASE)"
      ],
      "metadata": {
        "colab": {
          "base_uri": "https://localhost:8080/",
          "height": 36
        },
        "id": "UrmyPNNHGOOM",
        "outputId": "09f6a1e8-94f0-4456-aa5a-c25b6cf88c66"
      },
      "execution_count": null,
      "outputs": [
        {
          "output_type": "execute_result",
          "data": {
            "text/plain": [
              "'I love Ruby Language. We can use Ruby language for building the applications'"
            ],
            "application/vnd.google.colaboratory.intrinsic+json": {
              "type": "string"
            }
          },
          "metadata": {},
          "execution_count": 83
        }
      ]
    },
    {
      "cell_type": "code",
      "source": [
        "# To know how many times the replacement has been done\n",
        "re.subn(pattern1, 'Ruby', s2, flags=re.IGNORECASE)"
      ],
      "metadata": {
        "colab": {
          "base_uri": "https://localhost:8080/"
        },
        "id": "-0aZs6RrGleX",
        "outputId": "8557b2f9-1ee0-4805-aea2-085a60c47e6a"
      },
      "execution_count": null,
      "outputs": [
        {
          "output_type": "execute_result",
          "data": {
            "text/plain": [
              "('I love Ruby Language. We can use Ruby language for building the applications',\n",
              " 2)"
            ]
          },
          "metadata": {},
          "execution_count": 84
        }
      ]
    },
    {
      "cell_type": "code",
      "source": [
        "# dealing with unicode matching using regexes\n",
        "s = u'H\\u00e8llo! this is Python 123 🐍'"
      ],
      "metadata": {
        "id": "NCtinzDoG0yQ"
      },
      "execution_count": null,
      "outputs": []
    },
    {
      "cell_type": "code",
      "source": [
        "s"
      ],
      "metadata": {
        "colab": {
          "base_uri": "https://localhost:8080/",
          "height": 36
        },
        "id": "Rme4aJ3SG_C1",
        "outputId": "1c5fb6e7-904a-4c8a-8d79-3153852ce4c1"
      },
      "execution_count": null,
      "outputs": [
        {
          "output_type": "execute_result",
          "data": {
            "text/plain": [
              "'Hèllo! this is Python 123 🐍'"
            ],
            "application/vnd.google.colaboratory.intrinsic+json": {
              "type": "string"
            }
          },
          "metadata": {},
          "execution_count": 86
        }
      ]
    },
    {
      "cell_type": "code",
      "source": [
        "re.findall(r'\\w+', s)"
      ],
      "metadata": {
        "colab": {
          "base_uri": "https://localhost:8080/"
        },
        "id": "AEStDVaEHOpo",
        "outputId": "201cfd47-71f1-4c6a-e01b-8fa63a6c129d"
      },
      "execution_count": null,
      "outputs": [
        {
          "output_type": "execute_result",
          "data": {
            "text/plain": [
              "['Hèllo', 'this', 'is', 'Python', '123']"
            ]
          },
          "metadata": {},
          "execution_count": 87
        }
      ]
    },
    {
      "cell_type": "code",
      "source": [
        "re.findall(r'\\W+', s)"
      ],
      "metadata": {
        "colab": {
          "base_uri": "https://localhost:8080/"
        },
        "id": "9bLM_7Dt7qoE",
        "outputId": "d992d817-da26-4569-9424-c2e2323b7ab8"
      },
      "execution_count": null,
      "outputs": [
        {
          "output_type": "execute_result",
          "data": {
            "text/plain": [
              "['! ', ' ', ' ', ' ', ' 🐍']"
            ]
          },
          "metadata": {},
          "execution_count": 88
        }
      ]
    },
    {
      "cell_type": "code",
      "source": [
        "re.findall(r\"[A-Z]\\w+\", s, re.UNICODE)"
      ],
      "metadata": {
        "colab": {
          "base_uri": "https://localhost:8080/"
        },
        "id": "BhP46i5GHWP7",
        "outputId": "7f95230c-426a-4894-8d25-c6db2527e89e"
      },
      "execution_count": null,
      "outputs": [
        {
          "output_type": "execute_result",
          "data": {
            "text/plain": [
              "['Hèllo', 'Python']"
            ]
          },
          "metadata": {},
          "execution_count": 89
        }
      ]
    },
    {
      "cell_type": "markdown",
      "source": [
        "### There are multiple ways we can print the Emojis in Python. Let’s see how to print Emojis with Unicodes, CLDR names and emoji module.\n",
        "### Using Unicodes:\n",
        "### Every emoji has a Unicode associated with it. Emojis also have a CLDR short name, which can also be used.\n",
        "###From the list of unicodes, replace “+” with “000”. For example – “U+1F600” will become “U0001F600” and prefix the unicode with “\\” and print it."
      ],
      "metadata": {
        "id": "d7lITy36InCv"
      }
    },
    {
      "cell_type": "code",
      "source": [
        "# grinning face\n",
        "print(\"\\U0001f600\")\n",
        "# grinning squinting face\n",
        "print(\"\\U0001F606\")\n",
        "# rolling on the floor laughing\n",
        "print(\"\\U0001F923\")"
      ],
      "metadata": {
        "colab": {
          "base_uri": "https://localhost:8080/"
        },
        "id": "1VdO89lJIUm0",
        "outputId": "15f15c3c-89ae-4c82-f1a9-2f6e8dc9acc2"
      },
      "execution_count": null,
      "outputs": [
        {
          "output_type": "stream",
          "name": "stdout",
          "text": [
            "😀\n",
            "😆\n",
            "🤣\n"
          ]
        }
      ]
    },
    {
      "cell_type": "markdown",
      "source": [
        "## Using CLDR short name:"
      ],
      "metadata": {
        "id": "A3W0kfP2JCRU"
      }
    },
    {
      "cell_type": "code",
      "source": [
        "# grinning face\n",
        "print(\"\\N{grinning face}\")\n",
        "# slightly smiling face\n",
        "print(\"\\N{slightly smiling face}\")\n",
        "# winking face\n",
        "print(\"\\N{winking face}\")"
      ],
      "metadata": {
        "colab": {
          "base_uri": "https://localhost:8080/"
        },
        "id": "Th_LrTA-I7JG",
        "outputId": "686fc78b-54ea-4c0b-b884-6377d37b2690"
      },
      "execution_count": null,
      "outputs": [
        {
          "output_type": "stream",
          "name": "stdout",
          "text": [
            "😀\n",
            "🙂\n",
            "😉\n"
          ]
        }
      ]
    },
    {
      "cell_type": "code",
      "source": [
        "!pip install emoji"
      ],
      "metadata": {
        "colab": {
          "base_uri": "https://localhost:8080/"
        },
        "id": "5b1y0f6lJYBG",
        "outputId": "4c06b73f-1c81-49b2-d5f5-62949773bec4"
      },
      "execution_count": null,
      "outputs": [
        {
          "output_type": "stream",
          "name": "stdout",
          "text": [
            "Collecting emoji\n",
            "  Downloading emoji-2.12.1-py3-none-any.whl (431 kB)\n",
            "\u001b[2K     \u001b[90m━━━━━━━━━━━━━━━━━━━━━━━━━━━━━━━━━━━━━━━━\u001b[0m \u001b[32m431.4/431.4 kB\u001b[0m \u001b[31m7.2 MB/s\u001b[0m eta \u001b[36m0:00:00\u001b[0m\n",
            "\u001b[?25hRequirement already satisfied: typing-extensions>=4.7.0 in /usr/local/lib/python3.10/dist-packages (from emoji) (4.12.2)\n",
            "Installing collected packages: emoji\n",
            "Successfully installed emoji-2.12.1\n"
          ]
        }
      ]
    },
    {
      "cell_type": "code",
      "source": [
        "# import emoji module\n",
        "import emoji"
      ],
      "metadata": {
        "id": "WW_aFfS7Jh7l"
      },
      "execution_count": null,
      "outputs": []
    },
    {
      "cell_type": "code",
      "source": [
        "print(emoji.emojize(\":grinning_face_with_big_eyes:\"))\n",
        "print(emoji.emojize(\":winking_face_with_tongue:\"))\n",
        "print(emoji.emojize(\":zipper-mouth_face:\"))\n",
        "print(emoji.emojize(\":grinning_face_with_big_eyes:\"))\n",
        "print(emoji.emojize(\":winking_face_with_tongue:\"))"
      ],
      "metadata": {
        "id": "8qL7tqf5Jm0O",
        "colab": {
          "base_uri": "https://localhost:8080/"
        },
        "outputId": "8e18b666-11b0-45a0-db95-ee2bbdd69687"
      },
      "execution_count": null,
      "outputs": [
        {
          "output_type": "stream",
          "name": "stdout",
          "text": [
            "😃\n",
            "😜\n",
            "🤐\n",
            "😃\n",
            "😜\n"
          ]
        }
      ]
    },
    {
      "cell_type": "code",
      "source": [
        "print(emoji.demojize(\":grinning_face_with_big_eyes:\"))\n",
        "print(emoji.demojize(\":winking_face_with_tongue:\"))\n",
        "print(emoji.demojize(\":zipper-mouth_face:\"))"
      ],
      "metadata": {
        "id": "gL0OGLWH8f9J",
        "colab": {
          "base_uri": "https://localhost:8080/"
        },
        "outputId": "0d52d9a4-4bdc-44c9-81de-6b8b41ff9a59"
      },
      "execution_count": null,
      "outputs": [
        {
          "output_type": "stream",
          "name": "stdout",
          "text": [
            ":grinning_face_with_big_eyes:\n",
            ":winking_face_with_tongue:\n",
            ":zipper-mouth_face:\n"
          ]
        }
      ]
    },
    {
      "cell_type": "code",
      "source": [
        "print(emoji.demojize(\"😃\"))\n",
        "print(emoji.demojize(\"😜\"))\n",
        "print(emoji.demojize(\"🤐\"))"
      ],
      "metadata": {
        "colab": {
          "base_uri": "https://localhost:8080/"
        },
        "id": "0wYk2FwvD1Vg",
        "outputId": "531c7ca4-8ff4-480c-a9ce-cfbcfc5c4f5a"
      },
      "execution_count": null,
      "outputs": [
        {
          "output_type": "stream",
          "name": "stdout",
          "text": [
            ":grinning_face_with_big_eyes:\n",
            ":winking_face_with_tongue:\n",
            ":zipper-mouth_face:\n"
          ]
        }
      ]
    },
    {
      "cell_type": "code",
      "source": [],
      "metadata": {
        "id": "p1qAm8U8D-sm"
      },
      "execution_count": null,
      "outputs": []
    }
  ]
}