{
  "nbformat": 4,
  "nbformat_minor": 0,
  "metadata": {
    "colab": {
      "provenance": []
    },
    "kernelspec": {
      "name": "python3",
      "display_name": "Python 3"
    },
    "language_info": {
      "name": "python"
    }
  },
  "cells": [
    {
      "cell_type": "markdown",
      "source": [
        "## TSWA PRACTICAL 8 - Bag of Words , TF-IDF Models"
      ],
      "metadata": {
        "id": "4t1WhVb8J65u"
      }
    },
    {
      "cell_type": "code",
      "source": [
        "!pip install nltk"
      ],
      "metadata": {
        "colab": {
          "base_uri": "https://localhost:8080/"
        },
        "id": "FyYByCOHKCt-",
        "outputId": "92f8272a-fad3-454d-d386-49d651e339a8"
      },
      "execution_count": null,
      "outputs": [
        {
          "output_type": "stream",
          "name": "stdout",
          "text": [
            "Requirement already satisfied: nltk in /usr/local/lib/python3.10/dist-packages (3.8.1)\n",
            "Requirement already satisfied: click in /usr/local/lib/python3.10/dist-packages (from nltk) (8.1.7)\n",
            "Requirement already satisfied: joblib in /usr/local/lib/python3.10/dist-packages (from nltk) (1.4.2)\n",
            "Requirement already satisfied: regex>=2021.8.3 in /usr/local/lib/python3.10/dist-packages (from nltk) (2024.5.15)\n",
            "Requirement already satisfied: tqdm in /usr/local/lib/python3.10/dist-packages (from nltk) (4.66.4)\n"
          ]
        }
      ]
    },
    {
      "cell_type": "code",
      "source": [
        "!pip install gensim"
      ],
      "metadata": {
        "colab": {
          "base_uri": "https://localhost:8080/"
        },
        "id": "k2RLBbK0Fg95",
        "outputId": "bc22208f-79e5-459d-8fa4-f3138b83a1bb"
      },
      "execution_count": null,
      "outputs": [
        {
          "output_type": "stream",
          "name": "stdout",
          "text": [
            "Requirement already satisfied: gensim in /usr/local/lib/python3.10/dist-packages (4.3.2)\n",
            "Requirement already satisfied: numpy>=1.18.5 in /usr/local/lib/python3.10/dist-packages (from gensim) (1.25.2)\n",
            "Requirement already satisfied: scipy>=1.7.0 in /usr/local/lib/python3.10/dist-packages (from gensim) (1.11.4)\n",
            "Requirement already satisfied: smart-open>=1.8.1 in /usr/local/lib/python3.10/dist-packages (from gensim) (7.0.4)\n",
            "Requirement already satisfied: wrapt in /usr/local/lib/python3.10/dist-packages (from smart-open>=1.8.1->gensim) (1.14.1)\n"
          ]
        }
      ]
    },
    {
      "cell_type": "code",
      "source": [
        "!pip install scikit-learn"
      ],
      "metadata": {
        "colab": {
          "base_uri": "https://localhost:8080/"
        },
        "id": "16piYI4cVuuS",
        "outputId": "e922bcc7-1400-4ff6-953f-3d05625e6ee3"
      },
      "execution_count": null,
      "outputs": [
        {
          "output_type": "stream",
          "name": "stdout",
          "text": [
            "Requirement already satisfied: scikit-learn in /usr/local/lib/python3.10/dist-packages (1.2.2)\n",
            "Requirement already satisfied: numpy>=1.17.3 in /usr/local/lib/python3.10/dist-packages (from scikit-learn) (1.25.2)\n",
            "Requirement already satisfied: scipy>=1.3.2 in /usr/local/lib/python3.10/dist-packages (from scikit-learn) (1.11.4)\n",
            "Requirement already satisfied: joblib>=1.1.1 in /usr/local/lib/python3.10/dist-packages (from scikit-learn) (1.4.2)\n",
            "Requirement already satisfied: threadpoolctl>=2.0.0 in /usr/local/lib/python3.10/dist-packages (from scikit-learn) (3.5.0)\n"
          ]
        }
      ]
    },
    {
      "cell_type": "code",
      "source": [
        "corpus = ['the sky is blue', 'sky is blue and sky is beautiful', 'the beautiful sky is so blue', 'i love blue cheese']\n",
        "new_doc = ['loving this blue sky today']"
      ],
      "metadata": {
        "id": "Y6QdQrVmWLGv"
      },
      "execution_count": null,
      "outputs": []
    },
    {
      "cell_type": "code",
      "source": [
        "from sklearn.feature_extraction.text import CountVectorizer"
      ],
      "metadata": {
        "id": "ePh9STCDYtLc"
      },
      "execution_count": null,
      "outputs": []
    },
    {
      "cell_type": "code",
      "source": [
        "# BAG OF VECTOR MODEL - BOW\n",
        "def bow_extractor(corpus, ngram_range=(1,1)):\n",
        "  vectorizer = CountVectorizer(min_df=1, ngram_range=ngram_range)\n",
        "  features = vectorizer.fit_transform(corpus)\n",
        "  return vectorizer,features"
      ],
      "metadata": {
        "id": "QHjFNDIDWPy7"
      },
      "execution_count": null,
      "outputs": []
    },
    {
      "cell_type": "code",
      "source": [
        "# build bow vectorizer and get features\n",
        "# ROWS REPRESENT DOCUMENTS COLUMNS REPRESENT WORDS\n",
        "bow_vectorizer,bow_features = bow_extractor(corpus)\n",
        "features = bow_features.todense()\n",
        "print(features)"
      ],
      "metadata": {
        "colab": {
          "base_uri": "https://localhost:8080/"
        },
        "id": "p4l-QYFnXCIV",
        "outputId": "d4a09be9-5f78-4560-9fe5-31b2ca9e9a6f"
      },
      "execution_count": null,
      "outputs": [
        {
          "output_type": "stream",
          "name": "stdout",
          "text": [
            "[[0 0 1 0 1 0 1 0 1]\n",
            " [1 1 1 0 2 0 2 0 0]\n",
            " [0 1 1 0 1 0 1 1 1]\n",
            " [0 0 1 1 0 1 0 0 0]]\n"
          ]
        }
      ]
    },
    {
      "cell_type": "code",
      "source": [
        "# extract features from new document using built vectorizer\n",
        "new_doc_features = bow_vectorizer.transform(new_doc)\n",
        "new_doc_features = new_doc_features.todense()\n",
        "print(new_doc_features)\n"
      ],
      "metadata": {
        "colab": {
          "base_uri": "https://localhost:8080/"
        },
        "id": "nYK7FL56beBC",
        "outputId": "4cee75bf-718b-4591-8f4d-ba859fe0a3ff"
      },
      "execution_count": null,
      "outputs": [
        {
          "output_type": "stream",
          "name": "stdout",
          "text": [
            "[[0 0 1 0 0 0 1 0 0]]\n"
          ]
        }
      ]
    },
    {
      "cell_type": "code",
      "source": [
        "# print the feature names\n",
        "feature_names = bow_vectorizer.get_feature_names_out()\n",
        "print(feature_names)\n"
      ],
      "metadata": {
        "colab": {
          "base_uri": "https://localhost:8080/"
        },
        "id": "tFwlWNuoWWII",
        "outputId": "0838507d-138a-4b01-8024-81a530f17a48"
      },
      "execution_count": null,
      "outputs": [
        {
          "output_type": "stream",
          "name": "stdout",
          "text": [
            "['and' 'beautiful' 'blue' 'cheese' 'is' 'love' 'sky' 'so' 'the']\n"
          ]
        }
      ]
    },
    {
      "cell_type": "code",
      "source": [
        "# Understanding the feature vectorization with detailed representation\n",
        "import pandas as pd\n",
        "def display_features(features, feature_names):\n",
        "  df = pd.DataFrame(data=features,columns=feature_names)\n",
        "  print(df)\n",
        "display_features(features, feature_names)\n",
        "display_features(new_doc_features, feature_names)\n"
      ],
      "metadata": {
        "colab": {
          "base_uri": "https://localhost:8080/"
        },
        "id": "RhNnPrsZbyZI",
        "outputId": "b4b10703-5d37-474f-c882-a4394e9f8f1f"
      },
      "execution_count": null,
      "outputs": [
        {
          "output_type": "stream",
          "name": "stdout",
          "text": [
            "   and  beautiful  blue  cheese  is  love  sky  so  the\n",
            "0    0          0     1       0   1     0    1   0    1\n",
            "1    1          1     1       0   2     0    2   0    0\n",
            "2    0          1     1       0   1     0    1   1    1\n",
            "3    0          0     1       1   0     1    0   0    0\n",
            "   and  beautiful  blue  cheese  is  love  sky  so  the\n",
            "0    0          0     1       0   0     0    1   0    0\n"
          ]
        }
      ]
    },
    {
      "cell_type": "code",
      "source": [
        "# TF - DF MODEL\n",
        "from sklearn.feature_extraction.text import TfidfTransformer\n",
        "def tfidf_transformer(bow_matrix):\n",
        "    transformer = TfidfTransformer(norm='l2',smooth_idf=True,use_idf=True)\n",
        "    tfidf_matrix = transformer.fit_transform(bow_matrix)\n",
        "    return transformer, tfidf_matrix"
      ],
      "metadata": {
        "id": "b0cxBN4UdD_4"
      },
      "execution_count": null,
      "outputs": []
    },
    {
      "cell_type": "code",
      "source": [
        "from sklearn.feature_extraction.text import TfidfTransformer\n",
        "feature_names = bow_vectorizer.get_feature_names_out()"
      ],
      "metadata": {
        "id": "1rv6f147db7w"
      },
      "execution_count": null,
      "outputs": []
    },
    {
      "cell_type": "code",
      "source": [
        "from sklearn.feature_extraction.text import TfidfTransformer\n",
        "def tfidf_transformer(bow_matrix):\n",
        "  transformer = TfidfTransformer(norm='l2',smooth_idf=True,use_idf=True)\n",
        "  tfidf_matrix = transformer.fit_transform(bow_matrix)\n",
        "  return transformer, tfidf_matrix"
      ],
      "metadata": {
        "id": "xf3GetYjcBwn"
      },
      "execution_count": null,
      "outputs": []
    },
    {
      "cell_type": "code",
      "source": [
        "import numpy as np\n",
        "from sklearn.feature_extraction.text import TfidfTransformer\n",
        "feature_names = bow_vectorizer.get_feature_names_out()"
      ],
      "metadata": {
        "id": "q40f1QJDeMtf"
      },
      "execution_count": null,
      "outputs": []
    },
    {
      "cell_type": "code",
      "source": [
        "# build tfidf transformer and show train corpus tfidf features\n",
        "tfidf_trans, tdidf_features = tfidf_transformer(bow_features)\n",
        "features = np.round(tdidf_features.todense(), 2)\n",
        "display_features(features, feature_names)"
      ],
      "metadata": {
        "colab": {
          "base_uri": "https://localhost:8080/"
        },
        "id": "kv1xCX_AeE2Q",
        "outputId": "5e656ec9-8d02-4173-cba0-6d548c08119d"
      },
      "execution_count": null,
      "outputs": [
        {
          "output_type": "stream",
          "name": "stdout",
          "text": [
            "    and  beautiful  blue  cheese    is  love   sky    so   the\n",
            "0  0.00       0.00  0.40    0.00  0.49  0.00  0.49  0.00  0.60\n",
            "1  0.44       0.35  0.23    0.00  0.56  0.00  0.56  0.00  0.00\n",
            "2  0.00       0.43  0.29    0.00  0.35  0.00  0.35  0.55  0.43\n",
            "3  0.00       0.00  0.35    0.66  0.00  0.66  0.00  0.00  0.00\n"
          ]
        }
      ]
    },
    {
      "cell_type": "code",
      "source": [
        "# show tfidf features for new_doc using built tfidf transformer\n",
        "new_doc_features = np.asarray(new_doc_features)\n",
        "nd_tfidf = tfidf_trans.transform(new_doc_features)\n",
        "nd_features = np.round(nd_tfidf.todense(), 2)\n",
        "display_features(nd_features, feature_names)"
      ],
      "metadata": {
        "colab": {
          "base_uri": "https://localhost:8080/"
        },
        "id": "qpjdiIvCe7ef",
        "outputId": "b3e33047-f71d-427a-9086-0bc6a7991aa1"
      },
      "execution_count": null,
      "outputs": [
        {
          "output_type": "stream",
          "name": "stdout",
          "text": [
            "   and  beautiful  blue  cheese   is  love   sky   so  the\n",
            "0  0.0        0.0  0.63     0.0  0.0   0.0  0.77  0.0  0.0\n"
          ]
        }
      ]
    },
    {
      "cell_type": "code",
      "source": [
        "# Understanding how it works in the background\n",
        "import scipy.sparse as sp\n",
        "from numpy.linalg import norm\n",
        "feature_names = bow_vectorizer.get_feature_names_out()\n",
        "# compute term frequency\n",
        "tf = bow_features.todense()\n",
        "tf = np.array(tf, dtype='float64')\n",
        "# show term frequencies\n",
        "display_features(tf, feature_names)"
      ],
      "metadata": {
        "colab": {
          "base_uri": "https://localhost:8080/"
        },
        "id": "J751JYmJfgcB",
        "outputId": "5077cbb8-f4b1-4f4e-9c6e-76734b182060"
      },
      "execution_count": null,
      "outputs": [
        {
          "output_type": "stream",
          "name": "stdout",
          "text": [
            "   and  beautiful  blue  cheese   is  love  sky   so  the\n",
            "0  0.0        0.0   1.0     0.0  1.0   0.0  1.0  0.0  1.0\n",
            "1  1.0        1.0   1.0     0.0  2.0   0.0  2.0  0.0  0.0\n",
            "2  0.0        1.0   1.0     0.0  1.0   0.0  1.0  1.0  1.0\n",
            "3  0.0        0.0   1.0     1.0  0.0   1.0  0.0  0.0  0.0\n"
          ]
        }
      ]
    },
    {
      "cell_type": "code",
      "source": [
        "# show tfidf features for new_doc using built tfidf transformer\n",
        "nd_tfidf = tfidf_trans.transform(new_doc_features)\n",
        "nd_features = np.round(nd_tfidf.todense(), 2)\n",
        "display_features(nd_features, feature_names)"
      ],
      "metadata": {
        "colab": {
          "base_uri": "https://localhost:8080/"
        },
        "id": "Uamug8eGfz5-",
        "outputId": "8f173a91-1fdb-4f69-a6a4-aeb9801f9ba7"
      },
      "execution_count": null,
      "outputs": [
        {
          "output_type": "stream",
          "name": "stdout",
          "text": [
            "   and  beautiful  blue  cheese   is  love   sky   so  the\n",
            "0  0.0        0.0  0.63     0.0  0.0   0.0  0.77  0.0  0.0\n"
          ]
        }
      ]
    },
    {
      "cell_type": "code",
      "source": [
        "# build the document frequency matrix\n",
        "df = np.diff(sp.csc_matrix(bow_features, copy=True).indptr)\n",
        "df = 1 + df # to smoothen idf later\n",
        "# show document frequencies\n",
        "display_features([df], feature_names)"
      ],
      "metadata": {
        "colab": {
          "base_uri": "https://localhost:8080/"
        },
        "id": "H0psl3whf71N",
        "outputId": "a9b125e1-9457-415c-e744-fbbd11f8651b"
      },
      "execution_count": null,
      "outputs": [
        {
          "output_type": "stream",
          "name": "stdout",
          "text": [
            "   and  beautiful  blue  cheese  is  love  sky  so  the\n",
            "0    2          3     5       2   4     2    4   2    3\n"
          ]
        }
      ]
    },
    {
      "cell_type": "code",
      "source": [
        "# compute inverse document frequencies\n",
        "total_docs = 1 + len(corpus)\n",
        "idf = 1.0 + np.log(float(total_docs) / df)\n",
        "# show inverse document frequencies\n",
        "display_features([np.round(idf, 2)], feature_names)\n"
      ],
      "metadata": {
        "colab": {
          "base_uri": "https://localhost:8080/"
        },
        "id": "iBRbwG3Tf-m8",
        "outputId": "609f4530-3914-4ce7-eaf5-fc250011a1fc"
      },
      "execution_count": null,
      "outputs": [
        {
          "output_type": "stream",
          "name": "stdout",
          "text": [
            "    and  beautiful  blue  cheese    is  love   sky    so   the\n",
            "0  1.92       1.51   1.0    1.92  1.22  1.92  1.22  1.92  1.51\n"
          ]
        }
      ]
    },
    {
      "cell_type": "code",
      "source": [
        "# compute idf diagonal matrix\n",
        "total_features = bow_features.shape[1]\n",
        "idf_diag = sp.spdiags(idf, diags=0, m=total_features, n=total_features)\n",
        "idf = idf_diag.todense()\n",
        "# print the idf diagonal matrix\n",
        "print(np.round(idf, 2))\n"
      ],
      "metadata": {
        "colab": {
          "base_uri": "https://localhost:8080/"
        },
        "id": "U3003ujOgKEp",
        "outputId": "32d82270-628f-4be2-b9a5-58f229dbef80"
      },
      "execution_count": null,
      "outputs": [
        {
          "output_type": "stream",
          "name": "stdout",
          "text": [
            "[[1.92 0.   0.   0.   0.   0.   0.   0.   0.  ]\n",
            " [0.   1.51 0.   0.   0.   0.   0.   0.   0.  ]\n",
            " [0.   0.   1.   0.   0.   0.   0.   0.   0.  ]\n",
            " [0.   0.   0.   1.92 0.   0.   0.   0.   0.  ]\n",
            " [0.   0.   0.   0.   1.22 0.   0.   0.   0.  ]\n",
            " [0.   0.   0.   0.   0.   1.92 0.   0.   0.  ]\n",
            " [0.   0.   0.   0.   0.   0.   1.22 0.   0.  ]\n",
            " [0.   0.   0.   0.   0.   0.   0.   1.92 0.  ]\n",
            " [0.   0.   0.   0.   0.   0.   0.   0.   1.51]]\n"
          ]
        }
      ]
    },
    {
      "cell_type": "code",
      "source": [
        "# Compute the tf idf feature matrix using matrix multiplication.\n",
        "tfidf = tf * idf\n",
        "# show tfidf feature matrix\n",
        "display_features(np.round(tfidf, 2), feature_names)\n"
      ],
      "metadata": {
        "colab": {
          "base_uri": "https://localhost:8080/"
        },
        "id": "oScmH8x4gRcl",
        "outputId": "c869c17d-271d-44fb-fa15-2b00f24b3dc0"
      },
      "execution_count": null,
      "outputs": [
        {
          "output_type": "stream",
          "name": "stdout",
          "text": [
            "    and  beautiful  blue  cheese    is  love   sky    so   the\n",
            "0  0.00       0.00   1.0    0.00  1.22  0.00  1.22  0.00  1.51\n",
            "1  1.92       1.51   1.0    0.00  2.45  0.00  2.45  0.00  0.00\n",
            "2  0.00       1.51   1.0    0.00  1.22  0.00  1.22  1.92  1.51\n",
            "3  0.00       0.00   1.0    1.92  0.00  1.92  0.00  0.00  0.00\n"
          ]
        }
      ]
    },
    {
      "cell_type": "markdown",
      "source": [
        "##Computes the tfidf norms for each document and then divides the tfidf weights with the norm as per the formula to give us the final desired tfidf matrix"
      ],
      "metadata": {
        "id": "xz0TzjC0NMPx"
      }
    },
    {
      "cell_type": "code",
      "source": [
        "# compute L2 norms\n",
        "norms = norm(tfidf, axis=1)\n",
        "# print norms for each document\n",
        "print(np.round(norms, 2))"
      ],
      "metadata": {
        "colab": {
          "base_uri": "https://localhost:8080/"
        },
        "id": "RkkQG-5oM0ZR",
        "outputId": "69bf9036-a4db-4e69-b792-bb02f151df4d"
      },
      "execution_count": null,
      "outputs": [
        {
          "output_type": "stream",
          "name": "stdout",
          "text": [
            "[2.5  4.35 3.5  2.89]\n"
          ]
        }
      ]
    },
    {
      "cell_type": "code",
      "source": [
        "# compute normalized tfidf\n",
        "norm_tfidf = tfidf / norms[:, None]\n",
        "# show final tfidf feature matrix\n",
        "display_features(np.round(norm_tfidf, 2), feature_names)"
      ],
      "metadata": {
        "colab": {
          "base_uri": "https://localhost:8080/"
        },
        "id": "uT4w7UvtM6FN",
        "outputId": "1628b266-6ac0-4f44-b73e-d81600f738ac"
      },
      "execution_count": null,
      "outputs": [
        {
          "output_type": "stream",
          "name": "stdout",
          "text": [
            "    and  beautiful  blue  cheese    is  love   sky    so   the\n",
            "0  0.00       0.00  0.40    0.00  0.49  0.00  0.49  0.00  0.60\n",
            "1  0.44       0.35  0.23    0.00  0.56  0.00  0.56  0.00  0.00\n",
            "2  0.00       0.43  0.29    0.00  0.35  0.00  0.35  0.55  0.43\n",
            "3  0.00       0.00  0.35    0.66  0.00  0.66  0.00  0.00  0.00\n"
          ]
        }
      ]
    },
    {
      "cell_type": "markdown",
      "source": [
        "### Compare TF-IDF feature matrix for the documents in CORPUS to the feature matrix obtained using TfidfTransformer earlier. They are same, which means the mathematical formula appied to compute is correct."
      ],
      "metadata": {
        "id": "26BsTBgIOFRv"
      }
    },
    {
      "cell_type": "code",
      "source": [
        "# compute the tfidf based feature matrix for new document new_doc.\n",
        "# compute new doc term freqs from bow freqs\n",
        "nd_tf = new_doc_features\n",
        "nd_tf = np.array(nd_tf, dtype='float64')"
      ],
      "metadata": {
        "id": "MxMlQvjbOjS0"
      },
      "execution_count": null,
      "outputs": []
    },
    {
      "cell_type": "code",
      "source": [
        "# compute tfidf using idf matrix from train corpus\n",
        "nd_tfidf = nd_tf*idf\n",
        "nd_norms = norm(nd_tfidf, axis=1)\n",
        "norm_nd_tfidf = nd_tfidf / nd_norms[:, None]"
      ],
      "metadata": {
        "id": "o9NcU4OhOwEt"
      },
      "execution_count": null,
      "outputs": []
    },
    {
      "cell_type": "code",
      "source": [
        "# show new_doc tfidf feature vector\n",
        "display_features(np.round(norm_nd_tfidf, 2), feature_names)"
      ],
      "metadata": {
        "colab": {
          "base_uri": "https://localhost:8080/"
        },
        "id": "Wr_dykQMOy-G",
        "outputId": "45cbc549-d8cf-4a86-d049-3db722cfbc96"
      },
      "execution_count": null,
      "outputs": [
        {
          "output_type": "stream",
          "name": "stdout",
          "text": [
            "   and  beautiful  blue  cheese   is  love   sky   so  the\n",
            "0  0.0        0.0  0.63     0.0  0.0   0.0  0.77  0.0  0.0\n"
          ]
        }
      ]
    },
    {
      "cell_type": "markdown",
      "source": [
        "### Observe again this matrix is same as earlier.\n",
        "### We now implement a generic function that can directly compute the tfidf-based feature vectors for documents from the raw documents themselves.\n"
      ],
      "metadata": {
        "id": "1u5iKJDlPYtm"
      }
    },
    {
      "cell_type": "code",
      "source": [
        "from sklearn.feature_extraction.text import TfidfVectorizer\n",
        "def tfidf_extractor(corpus, ngram_range=(1,1)):\n",
        "  vectorizer = TfidfVectorizer(min_df=1,norm='l2',smooth_idf=True,use_idf=True,ngram_range=ngram_range)\n",
        "  features = vectorizer.fit_transform(corpus)\n",
        "  return vectorizer, features"
      ],
      "metadata": {
        "id": "jdNX_C8xP13Z"
      },
      "execution_count": null,
      "outputs": []
    },
    {
      "cell_type": "code",
      "source": [
        "# build tfidf vectorizer and get training corpus feature vectors\n",
        "tfidf_vectorizer, tdidf_features = tfidf_extractor(corpus)\n",
        "display_features(np.round(tdidf_features.todense(), 2),feature_names)"
      ],
      "metadata": {
        "colab": {
          "base_uri": "https://localhost:8080/"
        },
        "id": "X71s8EIYQdin",
        "outputId": "cc392027-ee80-49c3-fa5b-e5ad40dfee15"
      },
      "execution_count": null,
      "outputs": [
        {
          "output_type": "stream",
          "name": "stdout",
          "text": [
            "    and  beautiful  blue  cheese    is  love   sky    so   the\n",
            "0  0.00       0.00  0.40    0.00  0.49  0.00  0.49  0.00  0.60\n",
            "1  0.44       0.35  0.23    0.00  0.56  0.00  0.56  0.00  0.00\n",
            "2  0.00       0.43  0.29    0.00  0.35  0.00  0.35  0.55  0.43\n",
            "3  0.00       0.00  0.35    0.66  0.00  0.66  0.00  0.00  0.00\n"
          ]
        }
      ]
    },
    {
      "cell_type": "markdown",
      "source": [
        "### Observe that it is again same as above for corpus as well as new_doc"
      ],
      "metadata": {
        "id": "PKggReLuQ00-"
      }
    },
    {
      "cell_type": "code",
      "source": [
        "# get tfidf feature vector for the new document\n",
        "nd_tfidf = tfidf_vectorizer.transform(new_doc)\n",
        "display_features(np.round(nd_tfidf.todense(), 2), feature_names)"
      ],
      "metadata": {
        "colab": {
          "base_uri": "https://localhost:8080/"
        },
        "id": "yXLg10TVQxSW",
        "outputId": "ab314a90-0c55-46f2-c79c-f7a136e1fd90"
      },
      "execution_count": null,
      "outputs": [
        {
          "output_type": "stream",
          "name": "stdout",
          "text": [
            "   and  beautiful  blue  cheese   is  love   sky   so  the\n",
            "0  0.0        0.0  0.63     0.0  0.0   0.0  0.77  0.0  0.0\n"
          ]
        }
      ]
    },
    {
      "cell_type": "markdown",
      "source": [
        "### Modern Word Vector Models - Advanced Word Vectorization Models :"
      ],
      "metadata": {
        "id": "sbstAd40DOFG"
      }
    },
    {
      "cell_type": "code",
      "source": [
        "# Word 2 Vector Model\n",
        "import nltk\n",
        "nltk.download('punkt')"
      ],
      "metadata": {
        "colab": {
          "base_uri": "https://localhost:8080/"
        },
        "id": "5kUYbkhZhB7j",
        "outputId": "a64b9535-f367-4735-9ce4-1cd51a06c41d"
      },
      "execution_count": null,
      "outputs": [
        {
          "output_type": "stream",
          "name": "stderr",
          "text": [
            "[nltk_data] Downloading package punkt to /root/nltk_data...\n",
            "[nltk_data]   Unzipping tokenizers/punkt.zip.\n"
          ]
        },
        {
          "output_type": "execute_result",
          "data": {
            "text/plain": [
              "True"
            ]
          },
          "metadata": {},
          "execution_count": 31
        }
      ]
    },
    {
      "cell_type": "code",
      "source": [
        "import gensim"
      ],
      "metadata": {
        "id": "WKe2O2bCgWTH"
      },
      "execution_count": null,
      "outputs": []
    },
    {
      "cell_type": "code",
      "source": [
        "# Recall\n",
        "corpus = ['the sky is blue', 'sky is blue and sky is beautiful', 'the beautiful sky is so blue', 'i love blue cheese']\n",
        "new_doc = ['loving this blue sky today']"
      ],
      "metadata": {
        "id": "jkuc9swcUNOT"
      },
      "execution_count": null,
      "outputs": []
    },
    {
      "cell_type": "code",
      "source": [
        "corpus"
      ],
      "metadata": {
        "colab": {
          "base_uri": "https://localhost:8080/"
        },
        "id": "5zfGyzvTFylm",
        "outputId": "14861ec2-2c13-47de-ec0e-455d76aac697"
      },
      "execution_count": null,
      "outputs": [
        {
          "output_type": "execute_result",
          "data": {
            "text/plain": [
              "['the sky is blue',\n",
              " 'sky is blue and sky is beautiful',\n",
              " 'the beautiful sky is so blue',\n",
              " 'i love blue cheese']"
            ]
          },
          "metadata": {},
          "execution_count": 34
        }
      ]
    },
    {
      "cell_type": "code",
      "source": [
        "new_doc"
      ],
      "metadata": {
        "colab": {
          "base_uri": "https://localhost:8080/"
        },
        "id": "sIoT7tmZFrOq",
        "outputId": "c2a2ae3a-21d5-49ed-e1a7-e26ecbb83841"
      },
      "execution_count": null,
      "outputs": [
        {
          "output_type": "execute_result",
          "data": {
            "text/plain": [
              "['loving this blue sky today']"
            ]
          },
          "metadata": {},
          "execution_count": 35
        }
      ]
    },
    {
      "cell_type": "code",
      "source": [
        "# tokenize corpora\n",
        "TOKENIZED_CORPUS = [nltk.word_tokenize(sentence) for sentence in corpus]\n",
        "print(TOKENIZED_CORPUS)\n",
        "tokenized_new_doc = [nltk.word_tokenize(sentence) for sentence in new_doc]\n",
        "print(tokenized_new_doc)"
      ],
      "metadata": {
        "id": "7EDz-JbQhSWY",
        "colab": {
          "base_uri": "https://localhost:8080/"
        },
        "outputId": "ecc6055c-ec99-4ac7-ac9b-9fb08fbce4dd"
      },
      "execution_count": null,
      "outputs": [
        {
          "output_type": "stream",
          "name": "stdout",
          "text": [
            "[['the', 'sky', 'is', 'blue'], ['sky', 'is', 'blue', 'and', 'sky', 'is', 'beautiful'], ['the', 'beautiful', 'sky', 'is', 'so', 'blue'], ['i', 'love', 'blue', 'cheese']]\n",
            "[['loving', 'this', 'blue', 'sky', 'today']]\n"
          ]
        }
      ]
    },
    {
      "cell_type": "code",
      "source": [
        "# build the word2vec model on our training corpus\n",
        "model = gensim.models.Word2Vec(TOKENIZED_CORPUS,vector_size=10,window=10,min_count=2,sample=1e-3)"
      ],
      "metadata": {
        "id": "UswehIDiZLiG"
      },
      "execution_count": null,
      "outputs": []
    },
    {
      "cell_type": "code",
      "source": [
        "# model creates a vector representation for each word in the vocabulary\n",
        "# Check whether model of Word2Vector type is been created\n",
        "print(type(model))"
      ],
      "metadata": {
        "colab": {
          "base_uri": "https://localhost:8080/"
        },
        "id": "3Zg0WbTPU4sJ",
        "outputId": "960d9a15-b0e4-486d-ffac-ea20eccae749"
      },
      "execution_count": null,
      "outputs": [
        {
          "output_type": "stream",
          "name": "stdout",
          "text": [
            "<class 'gensim.models.word2vec.Word2Vec'>\n"
          ]
        }
      ]
    },
    {
      "cell_type": "code",
      "source": [
        "# The Word2Vec model stores word vectors in a separate attribute called wv.\n",
        "# It is a dictionary\n",
        "print(model.wv.key_to_index)"
      ],
      "metadata": {
        "colab": {
          "base_uri": "https://localhost:8080/"
        },
        "id": "AmVoWIv-ilUf",
        "outputId": "dff744f5-2009-4410-e814-86d52a6364cd"
      },
      "execution_count": null,
      "outputs": [
        {
          "output_type": "stream",
          "name": "stdout",
          "text": [
            "{'blue': 0, 'is': 1, 'sky': 2, 'beautiful': 3, 'the': 4}\n"
          ]
        }
      ]
    },
    {
      "cell_type": "code",
      "source": [
        "word = \"sky\"\n",
        "vector = model.wv[word]\n",
        "print(vector)"
      ],
      "metadata": {
        "colab": {
          "base_uri": "https://localhost:8080/"
        },
        "id": "17aniugihvIB",
        "outputId": "6ed5c81e-db2d-4423-b156-dc6541be1b2e"
      },
      "execution_count": null,
      "outputs": [
        {
          "output_type": "stream",
          "name": "stdout",
          "text": [
            "[ 0.07311766  0.05070262  0.06757693  0.00762866  0.06350891 -0.03405366\n",
            " -0.00946401  0.05768573 -0.07521638 -0.03936104]\n"
          ]
        }
      ]
    },
    {
      "cell_type": "code",
      "source": [
        "word = \"blue\"\n",
        "vector = model.wv[word]\n",
        "print(vector)"
      ],
      "metadata": {
        "colab": {
          "base_uri": "https://localhost:8080/"
        },
        "id": "o38hRU-pi0PT",
        "outputId": "21fefc57-b97e-4b55-db28-796518e4ec7b"
      },
      "execution_count": null,
      "outputs": [
        {
          "output_type": "stream",
          "name": "stdout",
          "text": [
            "[-0.00536227  0.00236431  0.0510335   0.09009273 -0.0930295  -0.07116809\n",
            "  0.06458873  0.08972988 -0.05015428 -0.03763372]\n"
          ]
        }
      ]
    },
    {
      "cell_type": "markdown",
      "source": [
        "### Add all the word vectors and divide the result by the total number of words matched in the vocabulary to get a final resulting averaged word vector representation for the text document."
      ],
      "metadata": {
        "id": "tsgVxMPcWqUZ"
      }
    },
    {
      "cell_type": "code",
      "source": [
        "import numpy as np\n",
        "# define function to average word vectors for a text document\n",
        "def average_word_vectors(words, model, vocabulary, num_features):\n",
        "  feature_vector = np.zeros((num_features,),dtype=\"float64\")\n",
        "  nwords = 0\n",
        "  for word in words:\n",
        "    if word in vocabulary:\n",
        "      nwords = nwords + 1\n",
        "      feature_vector = np.add(feature_vector, model.wv[word])\n",
        "    if nwords:\n",
        "      feature_vector = np.divide(feature_vector,nwords)\n",
        "  return feature_vector"
      ],
      "metadata": {
        "id": "1dwcFsofjUbH"
      },
      "execution_count": null,
      "outputs": []
    },
    {
      "cell_type": "code",
      "source": [
        "# generalize above function for a corpus of documents\n",
        "def averaged_word_vectorizer(corpus, model, num_features):\n",
        "  vocabulary = set(model.wv.index_to_key)\n",
        "  features = [average_word_vectors(tokenized_sentence, model, vocabulary,num_features)for tokenized_sentence in corpus]\n",
        "  return np.array(features)"
      ],
      "metadata": {
        "id": "xzRpjYWSjp7i"
      },
      "execution_count": null,
      "outputs": []
    },
    {
      "cell_type": "code",
      "source": [
        "import numpy as np\n",
        "from gensim.models import Word2Vec"
      ],
      "metadata": {
        "id": "OjALL2B9XijG"
      },
      "execution_count": null,
      "outputs": []
    },
    {
      "cell_type": "code",
      "source": [
        "# Get averaged word vectors for our training CORPUS\n",
        "avg_word_vec_features = averaged_word_vectorizer(corpus=TOKENIZED_CORPUS, model=model, num_features=10)\n",
        "print(np.round(avg_word_vec_features, 3))"
      ],
      "metadata": {
        "colab": {
          "base_uri": "https://localhost:8080/"
        },
        "id": "uimT1dRBadu9",
        "outputId": "6df66cad-bc16-4d44-d853-d4f061d29435"
      },
      "execution_count": null,
      "outputs": [
        {
          "output_type": "stream",
          "name": "stdout",
          "text": [
            "[[ 0.004  0.004  0.008  0.026 -0.025 -0.021  0.015  0.03  -0.021 -0.015]\n",
            " [-0.009 -0.002  0.015 -0.01  -0.005 -0.004  0.014 -0.009 -0.003 -0.011]\n",
            " [-0.     0.001  0.01   0.019 -0.019 -0.015  0.013  0.018 -0.011 -0.009]\n",
            " [-0.005  0.002  0.051  0.09  -0.093 -0.071  0.065  0.09  -0.05  -0.038]]\n"
          ]
        }
      ]
    },
    {
      "cell_type": "code",
      "source": [
        "# Get averaged word vectors for our training CORPUS\n",
        "avg_word_vec_features = averaged_word_vectorizer(corpus=tokenized_new_doc, model=model, num_features=10)\n",
        "print(np.round(avg_word_vec_features, 3))"
      ],
      "metadata": {
        "colab": {
          "base_uri": "https://localhost:8080/"
        },
        "id": "aNnsvcz0fkoB",
        "outputId": "f8e811f2-639f-4f40-aefd-01611f00aa47"
      },
      "execution_count": null,
      "outputs": [
        {
          "output_type": "stream",
          "name": "stdout",
          "text": [
            "[[ 0.017  0.013  0.03   0.024 -0.007 -0.026  0.014  0.037 -0.031 -0.019]]\n"
          ]
        }
      ]
    },
    {
      "cell_type": "markdown",
      "source": [
        "## From the above outputs, we can see that we have uniformly sized averaged word vectors for each document in the corpus, and these feature vectors will be used later for classification by feeding it to the ML algorithms"
      ],
      "metadata": {
        "id": "EwUI9piZf-Dc"
      }
    }
  ]
}